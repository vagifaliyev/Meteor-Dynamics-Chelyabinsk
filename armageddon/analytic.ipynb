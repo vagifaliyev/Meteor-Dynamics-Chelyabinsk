{
 "cells": [
  {
   "cell_type": "code",
   "execution_count": 7,
   "metadata": {},
   "outputs": [],
   "source": [
    "import numpy as np\n",
    "import pandas as pd\n",
    "import matplotlib.pyplot as plt\n",
    "from scipy.interpolate import interp1d\n",
    "import armageddon"
   ]
  },
  {
   "cell_type": "code",
   "execution_count": 19,
   "metadata": {},
   "outputs": [
    {
     "ename": "ValueError",
     "evalue": "A value in x_new is above the interpolation range.",
     "output_type": "error",
     "traceback": [
      "\u001b[0;31m---------------------------------------------------------------------------\u001b[0m",
      "\u001b[0;31mValueError\u001b[0m                                Traceback (most recent call last)",
      "\u001b[0;32m<ipython-input-19-99a177ae1da3>\u001b[0m in \u001b[0;36m<module>\u001b[0;34m\u001b[0m\n\u001b[1;32m     34\u001b[0m \u001b[0;31m#return f\u001b[0m\u001b[0;34m\u001b[0m\u001b[0;34m\u001b[0m\u001b[0;34m\u001b[0m\u001b[0m\n\u001b[1;32m     35\u001b[0m \u001b[0;34m\u001b[0m\u001b[0m\n\u001b[0;32m---> 36\u001b[0;31m \u001b[0mplt\u001b[0m\u001b[0;34m.\u001b[0m\u001b[0mplot\u001b[0m\u001b[0;34m(\u001b[0m\u001b[0mz\u001b[0m\u001b[0;34m[\u001b[0m\u001b[0;36m3\u001b[0m\u001b[0;34m]\u001b[0m\u001b[0;34m,\u001b[0m \u001b[0mf\u001b[0m\u001b[0;34m(\u001b[0m\u001b[0mz\u001b[0m\u001b[0;34m[\u001b[0m\u001b[0;36m3\u001b[0m\u001b[0;34m]\u001b[0m\u001b[0;34m)\u001b[0m\u001b[0;34m)\u001b[0m\u001b[0;34m\u001b[0m\u001b[0;34m\u001b[0m\u001b[0m\n\u001b[0m\u001b[1;32m     37\u001b[0m \u001b[0;34m\u001b[0m\u001b[0m\n\u001b[1;32m     38\u001b[0m \u001b[0;31m# chel.. data\u001b[0m\u001b[0;34m\u001b[0m\u001b[0;34m\u001b[0m\u001b[0;34m\u001b[0m\u001b[0m\n",
      "\u001b[0;32m/usr/local/lib/python3.7/site-packages/scipy/interpolate/polyint.py\u001b[0m in \u001b[0;36m__call__\u001b[0;34m(self, x)\u001b[0m\n\u001b[1;32m     77\u001b[0m         \"\"\"\n\u001b[1;32m     78\u001b[0m         \u001b[0mx\u001b[0m\u001b[0;34m,\u001b[0m \u001b[0mx_shape\u001b[0m \u001b[0;34m=\u001b[0m \u001b[0mself\u001b[0m\u001b[0;34m.\u001b[0m\u001b[0m_prepare_x\u001b[0m\u001b[0;34m(\u001b[0m\u001b[0mx\u001b[0m\u001b[0;34m)\u001b[0m\u001b[0;34m\u001b[0m\u001b[0;34m\u001b[0m\u001b[0m\n\u001b[0;32m---> 79\u001b[0;31m         \u001b[0my\u001b[0m \u001b[0;34m=\u001b[0m \u001b[0mself\u001b[0m\u001b[0;34m.\u001b[0m\u001b[0m_evaluate\u001b[0m\u001b[0;34m(\u001b[0m\u001b[0mx\u001b[0m\u001b[0;34m)\u001b[0m\u001b[0;34m\u001b[0m\u001b[0;34m\u001b[0m\u001b[0m\n\u001b[0m\u001b[1;32m     80\u001b[0m         \u001b[0;32mreturn\u001b[0m \u001b[0mself\u001b[0m\u001b[0;34m.\u001b[0m\u001b[0m_finish_y\u001b[0m\u001b[0;34m(\u001b[0m\u001b[0my\u001b[0m\u001b[0;34m,\u001b[0m \u001b[0mx_shape\u001b[0m\u001b[0;34m)\u001b[0m\u001b[0;34m\u001b[0m\u001b[0;34m\u001b[0m\u001b[0m\n\u001b[1;32m     81\u001b[0m \u001b[0;34m\u001b[0m\u001b[0m\n",
      "\u001b[0;32m/usr/local/lib/python3.7/site-packages/scipy/interpolate/interpolate.py\u001b[0m in \u001b[0;36m_evaluate\u001b[0;34m(self, x_new)\u001b[0m\n\u001b[1;32m    661\u001b[0m         \u001b[0my_new\u001b[0m \u001b[0;34m=\u001b[0m \u001b[0mself\u001b[0m\u001b[0;34m.\u001b[0m\u001b[0m_call\u001b[0m\u001b[0;34m(\u001b[0m\u001b[0mself\u001b[0m\u001b[0;34m,\u001b[0m \u001b[0mx_new\u001b[0m\u001b[0;34m)\u001b[0m\u001b[0;34m\u001b[0m\u001b[0;34m\u001b[0m\u001b[0m\n\u001b[1;32m    662\u001b[0m         \u001b[0;32mif\u001b[0m \u001b[0;32mnot\u001b[0m \u001b[0mself\u001b[0m\u001b[0;34m.\u001b[0m\u001b[0m_extrapolate\u001b[0m\u001b[0;34m:\u001b[0m\u001b[0;34m\u001b[0m\u001b[0;34m\u001b[0m\u001b[0m\n\u001b[0;32m--> 663\u001b[0;31m             \u001b[0mbelow_bounds\u001b[0m\u001b[0;34m,\u001b[0m \u001b[0mabove_bounds\u001b[0m \u001b[0;34m=\u001b[0m \u001b[0mself\u001b[0m\u001b[0;34m.\u001b[0m\u001b[0m_check_bounds\u001b[0m\u001b[0;34m(\u001b[0m\u001b[0mx_new\u001b[0m\u001b[0;34m)\u001b[0m\u001b[0;34m\u001b[0m\u001b[0;34m\u001b[0m\u001b[0m\n\u001b[0m\u001b[1;32m    664\u001b[0m             \u001b[0;32mif\u001b[0m \u001b[0mlen\u001b[0m\u001b[0;34m(\u001b[0m\u001b[0my_new\u001b[0m\u001b[0;34m)\u001b[0m \u001b[0;34m>\u001b[0m \u001b[0;36m0\u001b[0m\u001b[0;34m:\u001b[0m\u001b[0;34m\u001b[0m\u001b[0;34m\u001b[0m\u001b[0m\n\u001b[1;32m    665\u001b[0m                 \u001b[0;31m# Note fill_value must be broadcast up to the proper size\u001b[0m\u001b[0;34m\u001b[0m\u001b[0;34m\u001b[0m\u001b[0;34m\u001b[0m\u001b[0m\n",
      "\u001b[0;32m/usr/local/lib/python3.7/site-packages/scipy/interpolate/interpolate.py\u001b[0m in \u001b[0;36m_check_bounds\u001b[0;34m(self, x_new)\u001b[0m\n\u001b[1;32m    693\u001b[0m                              \"range.\")\n\u001b[1;32m    694\u001b[0m         \u001b[0;32mif\u001b[0m \u001b[0mself\u001b[0m\u001b[0;34m.\u001b[0m\u001b[0mbounds_error\u001b[0m \u001b[0;32mand\u001b[0m \u001b[0mabove_bounds\u001b[0m\u001b[0;34m.\u001b[0m\u001b[0many\u001b[0m\u001b[0;34m(\u001b[0m\u001b[0;34m)\u001b[0m\u001b[0;34m:\u001b[0m\u001b[0;34m\u001b[0m\u001b[0;34m\u001b[0m\u001b[0m\n\u001b[0;32m--> 695\u001b[0;31m             raise ValueError(\"A value in x_new is above the interpolation \"\n\u001b[0m\u001b[1;32m    696\u001b[0m                              \"range.\")\n\u001b[1;32m    697\u001b[0m \u001b[0;34m\u001b[0m\u001b[0m\n",
      "\u001b[0;31mValueError\u001b[0m: A value in x_new is above the interpolation range."
     ]
    }
   ],
   "source": [
    "from scipy.interpolate import interp1d\n",
    "\n",
    "Cd=1. \n",
    "H=8000.\n",
    "rho0=1.2\n",
    "\n",
    "init_altitude=100e3\n",
    "n=100\n",
    "\n",
    "radius = 1.02058734e+02\n",
    "\n",
    "\n",
    "#def anal(radius, density=1): \n",
    "    \n",
    "init_altitude=100e3\n",
    "n=100\n",
    "velocity = 19.2e3\n",
    "density = 3300\n",
    "angle = 18.3*np.pi/180\n",
    "\n",
    "# calcluating\n",
    "A = np.pi*radius*radius\n",
    "m = density*A*(4/3)*radius\n",
    "beta = -H*Cd*A/(2*m*np.sin(angle)) \n",
    "C = beta * np.exp(-init_altitude/H) - np.log(velocity)\n",
    "\n",
    "z = np.linspace(init_altitude, 0, n) # full range\n",
    "v = np.exp(beta*np.exp(-z/H) -C)\n",
    "\n",
    "ke = 0.5*m*v*v \n",
    "ke_loss = np.diff(ke)/np.diff(z)*4.11e-10\n",
    "\n",
    "f =  interp1d(z[1:]/1e3,ke_loss)\n",
    "#return f\n",
    "\n",
    "plt.plot(z[3], f(z[3]))\n",
    "\n",
    "# chel.. data \n",
    "chel_df = pd.read_csv(\"data/ChelyabinskEnergyAltitude.csv\")\n",
    "arr = chel_df.to_numpy()\n",
    "\n",
    "z_chel = arr[:,0]\n",
    "dedz = arr[:,1]\n",
    "\n",
    "z_max = np.amax(z_chel)\n",
    "z_min = np.amin(z_chel)\n",
    "# actual arrays \n",
    "\n",
    "\n",
    "\n",
    "#z = np.linspace(z_max*1e3, z_min*1e3, n)\n",
    "z = np.linspace(init_altitude, 0, n) # full range\n",
    "v = np.exp(beta*np.exp(-z/H) -C)\n",
    "\n",
    "\n",
    "#plt.plot(v,z)\n",
    "#plt.show\n",
    "ke = 0.5*m*v*v \n",
    "ke_loss = np.diff(ke)/np.diff(z)*4.11e-10\n",
    "\n",
    "#plt.plot(dedz,z_chel)\n",
    "#plt.plot(ke_loss, z[1:]/1e3)\n",
    "\n",
    "f = anal(radius)\n",
    "\n",
    "# PLOT ANALYTICAL SOLUTION\n",
    "#plt.plot(f(z[1:]/1e3),z[1:]/1e3)\n",
    "#plt.ylim(22,40)\n",
    "#plt.xlim(0,80)\n",
    "\n"
   ]
  },
  {
   "cell_type": "code",
   "execution_count": 3,
   "metadata": {},
   "outputs": [
    {
     "data": {
      "text/plain": [
       "[<matplotlib.lines.Line2D at 0x12d0b3490>]"
      ]
     },
     "execution_count": 3,
     "metadata": {},
     "output_type": "execute_result"
    },
    {
     "data": {
      "image/png": "[encoded data removed]",
      "text/plain": [
       "<Figure size 432x288 with 1 Axes>"
      ]
     },
     "metadata": {
      "needs_background": "light"
     },
     "output_type": "display_data"
    }
   ],
   "source": [
    "dd = np.diff(dedz)\n",
    "plt.plot(z_chel[1:], dd)"
   ]
  },
  {
   "cell_type": "code",
   "execution_count": 4,
   "metadata": {},
   "outputs": [
    {
     "data": {
      "text/plain": [
       "[<matplotlib.lines.Line2D at 0x12d21fe50>]"
      ]
     },
     "execution_count": 4,
     "metadata": {},
     "output_type": "execute_result"
    },
    {
     "data": {
      "image/png": "[encoded data removed]",
      "text/plain": [
       "<Figure size 432x288 with 1 Axes>"
      ]
     },
     "metadata": {
      "needs_background": "light"
     },
     "output_type": "display_data"
    }
   ],
   "source": [
    "def error_function(radius, density=1):\n",
    "    f = anal(radius, density)\n",
    "    total = 0\n",
    "    for i in range(len(z_chel)):\n",
    "        total += abs(f(z_chel[i])-dedz[i])\n",
    "    return total\n",
    "\n",
    "rad_vals = np.linspace(1,100,20)\n",
    "errors = np.zeros(20)\n",
    "\n",
    "for i in range(len(errors)): \n",
    "    errors[i] = error_function(rad_vals[i])\n",
    "\n",
    "#plt.plot(errors)\n",
    "plt.plot(rad_vals, errors)\n"
   ]
  },
  {
   "cell_type": "code",
   "execution_count": 7,
   "metadata": {},
   "outputs": [],
   "source": [
    "import armageddon\n",
    "\n",
    "# We first create a Planet class called \"earth\", \n",
    "# which contains all the constants, atmospheric density functions, etc.\n",
    "earth = armageddon.Planet()"
   ]
  },
  {
   "cell_type": "code",
   "execution_count": 8,
   "metadata": {},
   "outputs": [],
   "source": [
    "# A user would call the impact function for one scenario like so...\n",
    "result, outcome = earth.impact(\n",
    "    radius=10, angle=45, strength=1e5, velocity=20e3, density=3000)"
   ]
  },
  {
   "cell_type": "code",
   "execution_count": 9,
   "metadata": {},
   "outputs": [],
   "source": [
    "# This is equivalent to calling the three individual functions like so...\n",
    "result = earth.solve_atmospheric_entry(\n",
    "    radius=10, angle=45, strength=1e5, velocity=20e3, density=3000)\n",
    "result = earth.calculate_energy(result)\n",
    "outcome = earth.analyse_outcome(result)\n"
   ]
  },
  {
   "cell_type": "code",
   "execution_count": null,
   "metadata": {},
   "outputs": [],
   "source": [
    "from scipy.integrate import solve_ivp"
   ]
  },
  {
   "cell_type": "code",
   "execution_count": null,
   "metadata": {},
   "outputs": [],
   "source": [
    "def exponential_decay(t, y): return -0.5 * y"
   ]
  },
  {
   "cell_type": "code",
   "execution_count": null,
   "metadata": {},
   "outputs": [],
   "source": [
    "sol = solve_ivp(exponential_decay, [0, 10], [2])"
   ]
  },
  {
   "cell_type": "code",
   "execution_count": null,
   "metadata": {},
   "outputs": [],
   "source": [
    "print(sol.t)"
   ]
  },
  {
   "cell_type": "code",
   "execution_count": null,
   "metadata": {},
   "outputs": [],
   "source": [
    "def dvdt()"
   ]
  },
  {
   "cell_type": "code",
   "execution_count": null,
   "metadata": {},
   "outputs": [],
   "source": [
    "def J(x): \n",
    "    return x**2-2*x"
   ]
  },
  {
   "cell_type": "code",
   "execution_count": null,
   "metadata": {},
   "outputs": [],
   "source": [
    "J = error_function\n",
    "J(156,1.19481459)"
   ]
  },
  {
   "cell_type": "code",
   "execution_count": null,
   "metadata": {},
   "outputs": [],
   "source": [
    "iter = 100\n",
    "u = np.zeros(iter)\n",
    "u[0] = 1\n",
    "for j in range(iter-1): \n",
    "    c = 1/np.sqrt(j+10000)\n",
    "    dJ = (J(156.859,u[j] + c) - J(156.859,u[j]-c))/(2*c)\n",
    "    u[j+1] = u[j] - 1/(j+10000)*dJ"
   ]
  },
  {
   "cell_type": "code",
   "execution_count": null,
   "metadata": {},
   "outputs": [],
   "source": [
    "vJ = np.vectorize(J)"
   ]
  },
  {
   "cell_type": "code",
   "execution_count": null,
   "metadata": {},
   "outputs": [],
   "source": [
    "f(49.17747435)"
   ]
  },
  {
   "cell_type": "code",
   "execution_count": null,
   "metadata": {},
   "outputs": [],
   "source": [
    "f(48.17747435)\n",
    "f(90)"
   ]
  },
  {
   "cell_type": "code",
   "execution_count": null,
   "metadata": {},
   "outputs": [],
   "source": [
    "x = np.linspace(1,200,100)\n",
    "y = np.zeros(100)\n",
    "for i in range(100): \n",
    "    y[i] = error_function(x[i])\n",
    "plt.plot(x,y)"
   ]
  },
  {
   "cell_type": "code",
   "execution_count": null,
   "metadata": {},
   "outputs": [],
   "source": [
    "from noisyopt import minimizeSPSA"
   ]
  },
  {
   "cell_type": "code",
   "execution_count": null,
   "metadata": {},
   "outputs": [],
   "source": []
  },
  {
   "cell_type": "code",
   "execution_count": null,
   "metadata": {},
   "outputs": [],
   "source": [
    "bounds = [[10, 1000], [0.9, 10]]\n"
   ]
  },
  {
   "cell_type": "code",
   "execution_count": null,
   "metadata": {},
   "outputs": [],
   "source": [
    "#x0 = np.array([120, 0.99])\n",
    "\n",
    "def SPSA(func, x0, bounds, niter=100, a=1.0, alpha=0.602, c=1.0, gamma=0.101):\n",
    "    \"\"\"\n",
    "    Minimization of an objective function by a simultaneous perturbation\n",
    "    stochastic approximation.\n",
    "    This algorithm approximates the gradient of the function by finite differences\n",
    "    along stochastic directions Deltak. The elements of Deltak are drawn from\n",
    "    +- 1 with probability one half. The gradient is approximated from the \n",
    "    symmetric difference f(xk + ck*Deltak) - f(xk - ck*Deltak), where the evaluation\n",
    "    step size ck is scaled according ck =  c/(k+1)**gamma.\n",
    "    The algorithm takes a step of size ak = a/(0.01*niter+k+1)**alpha along the\n",
    "    negative gradient.\n",
    "    \n",
    "    We need to choose the parameters (a, alpha, c, gamma).\n",
    "\n",
    "    Parameters\n",
    "    ----------\n",
    "    func: function \n",
    "        function to be minimized:\n",
    "    x0: array-like\n",
    "        initial guess for parameters \n",
    "    bounds: array-like\n",
    "        bounds on the variables\n",
    "    niter: int\n",
    "        number of iterations after which to terminate the algorithm\n",
    "    a: float\n",
    "       scaling parameter for step size\n",
    "    alpha: float\n",
    "        scaling exponent for step size\n",
    "    c: float\n",
    "       scaling parameter for evaluation step size\n",
    "    gamma: float\n",
    "        scaling exponent for evaluation step size \n",
    "    Returns\n",
    "    -------\n",
    "    Optimized parameters to minimize input function over bounds\n",
    "    \"\"\"\n",
    "    A = 0.01 * niter\n",
    "\n",
    "    bounds = np.asarray(bounds)\n",
    "    project = lambda x: np.clip(x, bounds[:, 0], bounds[:, 1])\n",
    "\n",
    "    N = len(x0)\n",
    "    x = x0\n",
    "    for k in range(niter):\n",
    "        ak = a/(k+1.0+A)**alpha\n",
    "        ck = c/(k+1.0)**gamma\n",
    "        Deltak = np.random.choice([-1, 1], size=N)\n",
    "        fkwargs = dict()\n",
    "        # check points are in boundaries\n",
    "        xplus = project(x + ck*Deltak)\n",
    "        xminus = project(x - ck*Deltak)\n",
    "        grad = (func(xplus, **fkwargs) - func(xminus, **fkwargs)) / (xplus-xminus)\n",
    "        x = project(x - ak*grad)\n",
    "    return x\n"
   ]
  },
  {
   "cell_type": "code",
   "execution_count": null,
   "metadata": {},
   "outputs": [],
   "source": [
    "res = SPSA(vJ, bounds=bounds, x0=x0, niter=10)"
   ]
  },
  {
   "cell_type": "code",
   "execution_count": null,
   "metadata": {},
   "outputs": [],
   "source": [
    "print(res)"
   ]
  },
  {
   "cell_type": "code",
   "execution_count": null,
   "metadata": {},
   "outputs": [],
   "source": []
  },
  {
   "cell_type": "code",
   "execution_count": null,
   "metadata": {},
   "outputs": [],
   "source": [
    "fg"
   ]
  },
  {
   "cell_type": "code",
   "execution_count": null,
   "metadata": {},
   "outputs": [],
   "source": []
  },
  {
   "cell_type": "code",
   "execution_count": null,
   "metadata": {},
   "outputs": [],
   "source": [
    "import armageddon\n",
    "\n",
    "# We first create a Planet class called \"earth\", \n",
    "# which contains all the constants, atmospheric density functions, etc.\n",
    "earth = armageddon.Planet()"
   ]
  },
  {
   "cell_type": "code",
   "execution_count": null,
   "metadata": {},
   "outputs": [],
   "source": [
    "# A user would call the impact function for one scenario like so...\n",
    "result, outcome = earth.impact(\n",
    "    radius=10, angle=45, strength=1e5, velocity=20e3, density=3000)"
   ]
  },
  {
   "cell_type": "code",
   "execution_count": null,
   "metadata": {},
   "outputs": [],
   "source": [
    "# This is equivalent to calling the three individual functions like so...\n",
    "result = earth.solve_atmospheric_entry(\n",
    "    radius=10, angle=45, strength=1e5, velocity=20e3, density=3000)\n",
    "result = earth.calculate_energy(result)\n",
    "#outcome = earth.analyse_outcome(result)\n"
   ]
  },
  {
   "cell_type": "code",
   "execution_count": 10,
   "metadata": {},
   "outputs": [
    {
     "data": {
      "text/html": [
       "<div>\n",
       "<style scoped>\n",
       "    .dataframe tbody tr th:only-of-type {\n",
       "        vertical-align: middle;\n",
       "    }\n",
       "\n",
       "    .dataframe tbody tr th {\n",
       "        vertical-align: top;\n",
       "    }\n",
       "\n",
       "    .dataframe thead th {\n",
       "        text-align: right;\n",
       "    }\n",
       "</style>\n",
       "<table border=\"1\" class=\"dataframe\">\n",
       "  <thead>\n",
       "    <tr style=\"text-align: right;\">\n",
       "      <th></th>\n",
       "      <th>velocity</th>\n",
       "      <th>mass</th>\n",
       "      <th>angle</th>\n",
       "      <th>altitude</th>\n",
       "      <th>distance</th>\n",
       "      <th>radius</th>\n",
       "      <th>time</th>\n",
       "      <th>dedz</th>\n",
       "    </tr>\n",
       "  </thead>\n",
       "  <tbody>\n",
       "    <tr>\n",
       "      <th>0</th>\n",
       "      <td>20000.000000</td>\n",
       "      <td>1.256637e+07</td>\n",
       "      <td>45.00</td>\n",
       "      <td>100000.000000</td>\n",
       "      <td>0.000000</td>\n",
       "      <td>10.000000</td>\n",
       "      <td>0.00</td>\n",
       "      <td>0.000000</td>\n",
       "    </tr>\n",
       "    <tr>\n",
       "      <th>1</th>\n",
       "      <td>20000.346704</td>\n",
       "      <td>1.256637e+07</td>\n",
       "      <td>44.99</td>\n",
       "      <td>99292.918298</td>\n",
       "      <td>696.254262</td>\n",
       "      <td>10.000000</td>\n",
       "      <td>0.05</td>\n",
       "      <td>-0.029434</td>\n",
       "    </tr>\n",
       "    <tr>\n",
       "      <th>2</th>\n",
       "      <td>20000.693360</td>\n",
       "      <td>1.256637e+07</td>\n",
       "      <td>44.99</td>\n",
       "      <td>98585.889368</td>\n",
       "      <td>1392.660706</td>\n",
       "      <td>10.000000</td>\n",
       "      <td>0.10</td>\n",
       "      <td>-0.029430</td>\n",
       "    </tr>\n",
       "    <tr>\n",
       "      <th>3</th>\n",
       "      <td>20001.039966</td>\n",
       "      <td>1.256637e+07</td>\n",
       "      <td>44.98</td>\n",
       "      <td>97878.913236</td>\n",
       "      <td>2089.219370</td>\n",
       "      <td>10.000000</td>\n",
       "      <td>0.15</td>\n",
       "      <td>-0.029425</td>\n",
       "    </tr>\n",
       "    <tr>\n",
       "      <th>4</th>\n",
       "      <td>20001.386519</td>\n",
       "      <td>1.256637e+07</td>\n",
       "      <td>44.98</td>\n",
       "      <td>97171.989928</td>\n",
       "      <td>2785.930291</td>\n",
       "      <td>10.000000</td>\n",
       "      <td>0.20</td>\n",
       "      <td>-0.029420</td>\n",
       "    </tr>\n",
       "    <tr>\n",
       "      <th>...</th>\n",
       "      <td>...</td>\n",
       "      <td>...</td>\n",
       "      <td>...</td>\n",
       "      <td>...</td>\n",
       "      <td>...</td>\n",
       "      <td>...</td>\n",
       "      <td>...</td>\n",
       "      <td>...</td>\n",
       "    </tr>\n",
       "    <tr>\n",
       "      <th>8726</th>\n",
       "      <td>26.769282</td>\n",
       "      <td>1.684062e+06</td>\n",
       "      <td>89.94</td>\n",
       "      <td>4.493092</td>\n",
       "      <td>82248.087089</td>\n",
       "      <td>109.674771</td>\n",
       "      <td>436.30</td>\n",
       "      <td>0.000014</td>\n",
       "    </tr>\n",
       "    <tr>\n",
       "      <th>8727</th>\n",
       "      <td>26.767553</td>\n",
       "      <td>1.684062e+06</td>\n",
       "      <td>89.94</td>\n",
       "      <td>3.154672</td>\n",
       "      <td>82248.088432</td>\n",
       "      <td>109.674771</td>\n",
       "      <td>436.35</td>\n",
       "      <td>0.000014</td>\n",
       "    </tr>\n",
       "    <tr>\n",
       "      <th>8728</th>\n",
       "      <td>26.765824</td>\n",
       "      <td>1.684061e+06</td>\n",
       "      <td>89.94</td>\n",
       "      <td>1.816339</td>\n",
       "      <td>82248.089775</td>\n",
       "      <td>109.674771</td>\n",
       "      <td>436.40</td>\n",
       "      <td>0.000014</td>\n",
       "    </tr>\n",
       "    <tr>\n",
       "      <th>8729</th>\n",
       "      <td>26.764095</td>\n",
       "      <td>1.684061e+06</td>\n",
       "      <td>89.94</td>\n",
       "      <td>0.478091</td>\n",
       "      <td>82248.091118</td>\n",
       "      <td>109.674771</td>\n",
       "      <td>436.45</td>\n",
       "      <td>0.000014</td>\n",
       "    </tr>\n",
       "    <tr>\n",
       "      <th>8730</th>\n",
       "      <td>18.127921</td>\n",
       "      <td>1.684058e+06</td>\n",
       "      <td>89.92</td>\n",
       "      <td>-0.674964</td>\n",
       "      <td>82248.092425</td>\n",
       "      <td>109.674771</td>\n",
       "      <td>436.50</td>\n",
       "      <td>0.067667</td>\n",
       "    </tr>\n",
       "  </tbody>\n",
       "</table>\n",
       "<p>8731 rows × 8 columns</p>\n",
       "</div>"
      ],
      "text/plain": [
       "          velocity          mass  angle       altitude      distance  \\\n",
       "0     20000.000000  1.256637e+07  45.00  100000.000000      0.000000   \n",
       "1     20000.346704  1.256637e+07  44.99   99292.918298    696.254262   \n",
       "2     20000.693360  1.256637e+07  44.99   98585.889368   1392.660706   \n",
       "3     20001.039966  1.256637e+07  44.98   97878.913236   2089.219370   \n",
       "4     20001.386519  1.256637e+07  44.98   97171.989928   2785.930291   \n",
       "...            ...           ...    ...            ...           ...   \n",
       "8726     26.769282  1.684062e+06  89.94       4.493092  82248.087089   \n",
       "8727     26.767553  1.684062e+06  89.94       3.154672  82248.088432   \n",
       "8728     26.765824  1.684061e+06  89.94       1.816339  82248.089775   \n",
       "8729     26.764095  1.684061e+06  89.94       0.478091  82248.091118   \n",
       "8730     18.127921  1.684058e+06  89.92      -0.674964  82248.092425   \n",
       "\n",
       "          radius    time      dedz  \n",
       "0      10.000000    0.00  0.000000  \n",
       "1      10.000000    0.05 -0.029434  \n",
       "2      10.000000    0.10 -0.029430  \n",
       "3      10.000000    0.15 -0.029425  \n",
       "4      10.000000    0.20 -0.029420  \n",
       "...          ...     ...       ...  \n",
       "8726  109.674771  436.30  0.000014  \n",
       "8727  109.674771  436.35  0.000014  \n",
       "8728  109.674771  436.40  0.000014  \n",
       "8729  109.674771  436.45  0.000014  \n",
       "8730  109.674771  436.50  0.067667  \n",
       "\n",
       "[8731 rows x 8 columns]"
      ]
     },
     "execution_count": 10,
     "metadata": {},
     "output_type": "execute_result"
    }
   ],
   "source": [
    "result"
   ]
  },
  {
   "cell_type": "code",
   "execution_count": 11,
   "metadata": {},
   "outputs": [],
   "source": [
    "# chel.. data \n",
    "chel_df = pd.read_csv(\"data/ChelyabinskEnergyAltitude.csv\")\n",
    "arr = chel_df.to_numpy()\n",
    "\n",
    "z_chel = arr[:,0]\n",
    "dedz = arr[:,1]"
   ]
  },
  {
   "cell_type": "code",
   "execution_count": 12,
   "metadata": {},
   "outputs": [
    {
     "data": {
      "text/plain": [
       "[<matplotlib.lines.Line2D at 0x12d9b7850>]"
      ]
     },
     "execution_count": 12,
     "metadata": {},
     "output_type": "execute_result"
    },
    {
     "data": {
      "image/png": "[encoded data removed]",
      "text/plain": [
       "<Figure size 432x288 with 1 Axes>"
      ]
     },
     "metadata": {
      "needs_background": "light"
     },
     "output_type": "display_data"
    }
   ],
   "source": [
    "plt.plot(dedz,z_chel)\n",
    "#plt.plot(ke_loss, z[1:]/1e3)\n"
   ]
  },
  {
   "cell_type": "code",
   "execution_count": 13,
   "metadata": {},
   "outputs": [],
   "source": [
    "solver_dedz = result['dedz'].to_numpy()\n",
    "solver_z = result['altitude'].to_numpy()"
   ]
  },
  {
   "cell_type": "code",
   "execution_count": 14,
   "metadata": {},
   "outputs": [],
   "source": [
    "solver_z /= 1e3  # convert to km \n",
    "\n"
   ]
  },
  {
   "cell_type": "code",
   "execution_count": 15,
   "metadata": {},
   "outputs": [
    {
     "data": {
      "text/plain": [
       "[<matplotlib.lines.Line2D at 0x12da22dd0>]"
      ]
     },
     "execution_count": 15,
     "metadata": {},
     "output_type": "execute_result"
    },
    {
     "data": {
      "image/png": "[encoded data removed]",
      "text/plain": [
       "<Figure size 432x288 with 1 Axes>"
      ]
     },
     "metadata": {
      "needs_background": "light"
     },
     "output_type": "display_data"
    }
   ],
   "source": [
    "plt.plot(solver_dedz, solver_z)"
   ]
  },
  {
   "cell_type": "code",
   "execution_count": 22,
   "metadata": {},
   "outputs": [],
   "source": [
    "def strength_radius(rad = 150, st=1e6): \n",
    "    #velocity = 19.2e3\n",
    "    #density = 3300\n",
    "    #angle = 18.3\n",
    "    \n",
    "    # calcluating\n",
    "    result, outcome = earth.impact(radius=rad, angle=18.3, strength=st, velocity=19.2e3, density=3300)\n",
    "    #print(result.head())\n",
    "    solver_dedz = result['dedz'].to_numpy()\n",
    "    solver_z = result['altitude'].to_numpy()    \n",
    "    solver_z /= 1e3  # convert to km     \n",
    "    #plt.plot(solver_dedz,solver_z)\n",
    "    #f = interp1d(solver_z,solver_dedz)\n",
    "    return solver_dedz, solver_z\n"
   ]
  },
  {
   "cell_type": "code",
   "execution_count": 30,
   "metadata": {},
   "outputs": [
    {
     "data": {
      "text/plain": [
       "(21, 43)"
      ]
     },
     "execution_count": 30,
     "metadata": {},
     "output_type": "execute_result"
    },
    {
     "data": {
      "image/png": "[encoded data removed]",
      "text/plain": [
       "<Figure size 432x288 with 1 Axes>"
      ]
     },
     "metadata": {
      "needs_background": "light"
     },
     "output_type": "display_data"
    }
   ],
   "source": [
    "x,y = strength_radius(rad = 8,st = 2e6)\n",
    "#vf = np.vectorize(func)\n",
    "#x = np.linspace(0,100,100)\n",
    "#y = vf(x)\n",
    "plt.plot(x,y)\n",
    "plt.plot(dedz,z_chel)\n",
    "plt.ylim(21,43)\n",
    "#plt.xlim(0,200)"
   ]
  },
  {
   "cell_type": "code",
   "execution_count": null,
   "metadata": {},
   "outputs": [],
   "source": [
    "        result_sci = solve_ivp(self.f_com_analytical, (0, t_max), initial_state, t_eval=None, method='RK45', atol=tol, rtol=tol)\n"
   ]
  },
  {
   "cell_type": "code",
   "execution_count": 18,
   "metadata": {},
   "outputs": [
    {
     "ename": "NameError",
     "evalue": "name 'self' is not defined",
     "output_type": "error",
     "traceback": [
      "\u001b[0;31m---------------------------------------------------------------------------\u001b[0m",
      "\u001b[0;31mNameError\u001b[0m                                 Traceback (most recent call last)",
      "\u001b[0;32m<ipython-input-18-2b226454f6b6>\u001b[0m in \u001b[0;36m<module>\u001b[0;34m\u001b[0m\n\u001b[0;32m----> 1\u001b[0;31m a,b,c,d,e = earth.compare_analytical_numerical(self, radius=10, angle=45, strength=1e5, velocity=20e3, density=3000,\n\u001b[0m\u001b[1;32m      2\u001b[0m         init_altitude=100e3, n=100, radians=False)\n",
      "\u001b[0;31mNameError\u001b[0m: name 'self' is not defined"
     ]
    }
   ],
   "source": [
    "a,b,c,d,e = earth.compare_analytical_numerical(self, radius=10, angle=45, strength=1e5, velocity=20e3, density=3000,\n",
    "        init_altitude=100e3, n=100, radians=False)"
   ]
  },
  {
   "cell_type": "code",
   "execution_count": null,
   "metadata": {},
   "outputs": [],
   "source": [
    "def error_function(rad=1000, st=1e5):\n",
    "    f = strength_radius(rad, st)\n",
    "    total = 0\n",
    "    for i in range(len(z_chel)):\n",
    "        total += abs(f(z_chel[i])-dedz[i])\n",
    "    return total\n",
    "\n",
    "rad_vals = np.linspace(10,200,10)\n",
    "errors = np.zeros(10)\n",
    "\n",
    "for i in range(len(errors)): \n",
    "    errors[i] = error_function(rad_vals[i], 1e6)\n",
    "\n",
    "#plt.plot(errors)\n",
    "plt.plot(rad_vals, errors)\n",
    "\n",
    "\n"
   ]
  },
  {
   "cell_type": "code",
   "execution_count": null,
   "metadata": {},
   "outputs": [],
   "source": []
  },
  {
   "cell_type": "code",
   "execution_count": null,
   "metadata": {},
   "outputs": [],
   "source": [
    "bounds = [[200, 300], [1e5, 1e5]]\n",
    "vJ = np.vectorize(error_function)\n",
    "x0 = np.array([100, 1e5])\n",
    "\n",
    "from noisyopt import minimizeSPSA\n",
    "res = minimizeSPSA(vJ, bounds=bounds, x0=x0, niter=10, paired=False)"
   ]
  },
  {
   "cell_type": "code",
   "execution_count": 19,
   "metadata": {},
   "outputs": [],
   "source": [
    "fiducial_impact = {'radius': 10.0,'angle': 10.0,'strength': 0.0,'velocity': 0.0,'density': 0.0}\n",
    "    \n",
    "earth = armageddon.Planet()\n",
    "ensemble = armageddon.ensemble.solve_ensemble(earth,fiducial_impact,variables=[], radians=False,rmin=8, rmax=12)\n"
   ]
  },
  {
   "cell_type": "code",
   "execution_count": 20,
   "metadata": {},
   "outputs": [
    {
     "data": {
      "text/html": [
       "<div>\n",
       "<style scoped>\n",
       "    .dataframe tbody tr th:only-of-type {\n",
       "        vertical-align: middle;\n",
       "    }\n",
       "\n",
       "    .dataframe tbody tr th {\n",
       "        vertical-align: top;\n",
       "    }\n",
       "\n",
       "    .dataframe thead th {\n",
       "        text-align: right;\n",
       "    }\n",
       "</style>\n",
       "<table border=\"1\" class=\"dataframe\">\n",
       "  <thead>\n",
       "    <tr style=\"text-align: right;\">\n",
       "      <th></th>\n",
       "      <th>burst_altitude</th>\n",
       "    </tr>\n",
       "  </thead>\n",
       "  <tbody>\n",
       "  </tbody>\n",
       "</table>\n",
       "</div>"
      ],
      "text/plain": [
       "Empty DataFrame\n",
       "Columns: [burst_altitude]\n",
       "Index: []"
      ]
     },
     "execution_count": 20,
     "metadata": {},
     "output_type": "execute_result"
    }
   ],
   "source": [
    "ensemble"
   ]
  },
  {
   "cell_type": "code",
   "execution_count": null,
   "metadata": {},
   "outputs": [],
   "source": []
  }
 ],
 "metadata": {
  "kernelspec": {
   "display_name": "Python 3",
   "language": "python",
   "name": "python3"
  },
  "language_info": {
   "codemirror_mode": {
    "name": "ipython",
    "version": 3
   },
   "file_extension": ".py",
   "mimetype": "text/x-python",
   "name": "python",
   "nbconvert_exporter": "python",
   "pygments_lexer": "ipython3",
   "version": "3.7.4"
  },
  "toc": {
   "base_numbering": 1,
   "nav_menu": {},
   "number_sections": true,
   "sideBar": true,
   "skip_h1_title": false,
   "title_cell": "Table of Contents",
   "title_sidebar": "Contents",
   "toc_cell": false,
   "toc_position": {},
   "toc_section_display": true,
   "toc_window_display": false
  }
 },
 "nbformat": 4,
 "nbformat_minor": 2
}
